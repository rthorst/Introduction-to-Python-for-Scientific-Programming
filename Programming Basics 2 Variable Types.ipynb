{
 "cells": [
  {
   "cell_type": "markdown",
   "metadata": {},
   "source": [
    "# Programming Basics 2: Variable Types\n",
    "\n",
    "**One of the primary things you will do in programming is to create variables**, which can be things like numbers, text, or statements about whether something is true or false (such as whether a participant is in the control condition).\n",
    "\n",
    "**The goal of this module is for you to learn about some of the most common variable types in python**. Specifically, we will learn about:\n",
    "1. Common variable types (integer, floating point, string, boolean).\n",
    "2. Converting variables from one type to another.\n",
    "3. Assigning a variable to a value.\n",
    "4. Basic variable operations\n"
   ]
  },
  {
   "cell_type": "markdown",
   "metadata": {},
   "source": [
    "# 1. Common Variable Types\n",
    "\n",
    "The most common variable types in Python are:\n",
    "\n",
    "1. *int* (integer), e.g. 5\n",
    "2. *float* (decimal number), e.g. 2.3, 5.0\n",
    "3. *string* (text), e.g. \"hello\"\n",
    "4. *boolean* (true-false statement), e.g. True, (5==4)\n",
    "\n",
    "To check the type of a variable, use the type() function, e.g. type(\"hello\")\n"
   ]
  },
  {
   "cell_type": "code",
   "execution_count": 18,
   "metadata": {},
   "outputs": [
    {
     "data": {
      "text/plain": [
       "str"
      ]
     },
     "execution_count": 18,
     "metadata": {},
     "output_type": "execute_result"
    }
   ],
   "source": [
    "type(\"hello\")"
   ]
  },
  {
   "cell_type": "markdown",
   "metadata": {},
   "source": [
    "**Practice:** what are the types of:\n",
    "- 2.0\n",
    "- True\n",
    "- 1\n",
    "- 1==1\n",
    "- \"hello\"\n",
    "- \"2.0\"\n",
    "- 5==4"
   ]
  },
  {
   "cell_type": "markdown",
   "metadata": {},
   "source": [
    "# 2. Converting Variable to Another Type.\n",
    "\n",
    "Say that you have some data for a participant, that their score on one survey question is \"5\" , and on the next question is 3. You'd like to add these together to get their total score. But, there's a problem: the first is a *string* and the second is an *integer*. \n",
    "\n",
    "**Principle:** When working with variables together, you want all of the variables to be of the same type (e.g. all integers, or all strings).\n",
    "\n",
    "**Solution:** You need to convert the string, \"5\", to an integer, 5. \n",
    "\n",
    "Python provides the following built-in functions for type conversion:\n",
    "- str()\n",
    "- int()\n",
    "- float()\n",
    "- bool()   -- for boolean.\n",
    "- ... and others.\n",
    "\n",
    "You will need to execute the following code (press CTRL + ENTER):"
   ]
  },
  {
   "cell_type": "code",
   "execution_count": 4,
   "metadata": {},
   "outputs": [
    {
     "data": {
      "text/plain": [
       "8"
      ]
     },
     "execution_count": 4,
     "metadata": {},
     "output_type": "execute_result"
    }
   ],
   "source": [
    "score1 = \"5\"\n",
    "score2 = 3\n",
    "score1 = int(score1)\n",
    "score1 + score2 # this will work and return the integer 8."
   ]
  },
  {
   "cell_type": "markdown",
   "metadata": {},
   "source": [
    "**Practice:** Use type conversion to fix the code below so that we can add a, b, and c together."
   ]
  },
  {
   "cell_type": "code",
   "execution_count": null,
   "metadata": {
    "collapsed": true
   },
   "outputs": [],
   "source": [
    "a = \"5\"\n",
    "b = \"2.0\"\n",
    "c = -7\n",
    "a + b + c"
   ]
  },
  {
   "cell_type": "markdown",
   "metadata": {},
   "source": [
    "# 3. Assigning Variables.\n",
    "\n",
    "You will often want to store the value of a variable. For example, 3 participants may each perform a task, and you want to store their individual scores. This is called **variable assignment**\n",
    "\n",
    "*Assignment is performed with a single equals sign*\n",
    "\n"
   ]
  },
  {
   "cell_type": "code",
   "execution_count": null,
   "metadata": {
    "collapsed": true
   },
   "outputs": [],
   "source": [
    "a = 3"
   ]
  },
  {
   "cell_type": "markdown",
   "metadata": {},
   "source": [
    "*In python, you can also assign many variables at once, so-called multiple assignment. Note that this is sometimes considered messy code*"
   ]
  },
  {
   "cell_type": "code",
   "execution_count": null,
   "metadata": {
    "collapsed": true
   },
   "outputs": [],
   "source": [
    "a, b, c = 1, 2, 3\n",
    "a # returns 1\n",
    "b # returns 2\n",
    "c # returns 3"
   ]
  },
  {
   "cell_type": "markdown",
   "metadata": {},
   "source": [
    "**Practice:** You have 5 participants (participants 1-5), who scored, respectively, 5, 2, 3.2, 4, and -2 on your task. \n",
    "1. Assign a variable to store each participant's score.\n",
    "2. Test whether participant 1 scored higher than participant 3.\n",
    "3. Create a new variable which holds the average score of all 5 participants."
   ]
  },
  {
   "cell_type": "code",
   "execution_count": null,
   "metadata": {
    "collapsed": true
   },
   "outputs": [],
   "source": [
    "# assign a variable for each participant. \n",
    "p1 = 5 # participant 1 score\n",
    "p2 = 2 # participant 2 score\n",
    "# finish me.\n",
    "\n"
   ]
  },
  {
   "cell_type": "code",
   "execution_count": null,
   "metadata": {
    "collapsed": true
   },
   "outputs": [],
   "source": [
    "# test whether participant 1 scored higher than participant 3."
   ]
  },
  {
   "cell_type": "code",
   "execution_count": null,
   "metadata": {
    "collapsed": true
   },
   "outputs": [],
   "source": [
    "# create a new variable which holds the average score\n",
    "# of all 5 participants\n"
   ]
  },
  {
   "cell_type": "markdown",
   "metadata": {},
   "source": [
    "# Common Variable Operations.\n",
    "\n",
    "You will usually want to do things with your variables, for example, add them, test if a participant's condition is \"control\", etc. Here are some common variable operations in python.\n",
    "\n",
    "**Float / Integer Operations**:\n",
    "1. Arithmetic: +, -, *, /, %\n",
    "2. Comparison : >, <, ==\n",
    "\n",
    "**String Operations**:\n",
    "1. Length: len()\n",
    "2. Slicing, get part of a string: e.g. s == \"programming\", s[0:2]\n",
    "3. Comparison : condition == \"control\"\n",
    "\n",
    "** Practice:** In the code below, p1 and p2 are participants' scores on a task, and p1_condition and p2_condition are strings representing their experimental conditions. \n",
    "1. Add the scores of p1 and p2.\n",
    "2. Test if p1 is in the control condition.\n",
    "3. Test if p1 scored higher than p2.\n",
    "4. Get the first 3 letters of p1's condition.\n",
    "5. Test if p1 and p2 are in the same condition.\n",
    "6. You made a mistake: participant 1's score is actually 1 lower than it should be. Add 1 to participant 1's score, storing the result in the p1 variable. \n"
   ]
  },
  {
   "cell_type": "code",
   "execution_count": null,
   "metadata": {
    "collapsed": true
   },
   "outputs": [],
   "source": [
    "p1 = 5 # participant 1 score. \n",
    "p2 = 2 # participant 2 score. \n",
    "p1_condition = \"treatment\"\n",
    "p2_condition = \"control\"\n",
    "# finish me"
   ]
  }
 ],
 "metadata": {
  "kernelspec": {
   "display_name": "Python 3",
   "language": "python",
   "name": "python3"
  },
  "language_info": {
   "codemirror_mode": {
    "name": "ipython",
    "version": 3
   },
   "file_extension": ".py",
   "mimetype": "text/x-python",
   "name": "python",
   "nbconvert_exporter": "python",
   "pygments_lexer": "ipython3",
   "version": "3.6.1"
  }
 },
 "nbformat": 4,
 "nbformat_minor": 2
}
