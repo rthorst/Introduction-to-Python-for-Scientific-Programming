{
 "cells": [
  {
   "cell_type": "markdown",
   "metadata": {},
   "source": [
    "# Programming Basics 1: Introduction to Python.\n",
    "\n",
    "The goal of this lesson is to get you started with python. Specifically, you will install python, learn to interact with python, run your first program, and learn to install new python libraries. \n",
    "\n",
    "## Goals \n",
    "1. Install Python and a programming environment.\n",
    "2. Interact with Python and run a program.\n",
    "3. Install new python libraries.\n"
   ]
  },
  {
   "cell_type": "markdown",
   "metadata": {},
   "source": [
    "# Installing Python.\n",
    "\n",
    "We are going to install the Anaconda scientific python distribution, which comes with two things (as well as some other features that we won't use in these lessons):\n",
    "    1. Python language (Python 3.6).\n",
    "    2. An environment to program in (Spyder).\n",
    "    \n",
    "## Installing Python: Anaconda Distribution.\n",
    "\n",
    "We are going to install a scientific python distribution, Anaconda.\n",
    "\n",
    "1. Navigate to https://www.anaconda.com/download/.\n",
    "2. Download the Python 3.6 (**not 2.7**) installer for your operating system.\n",
    "3. Run the installer, ** noting the non-default instruction below **\n",
    "4. Use all default installation settings, **except check yes** when asked to add Anaconda to your PATH environment variable. This allows us to run Python easily from the command line.\n",
    "![Adding Anaconda to PATH](anaconda_path.png)\n",
    "\n",
    "\n",
    "\n"
   ]
  },
  {
   "cell_type": "markdown",
   "metadata": {},
   "source": [
    "# Interacting with Python.\n",
    "\n",
    "We are going to learn to interact with python. \n",
    "\n",
    "## Method 1: Spyder interactive editor.\n",
    "\n",
    "* Please launch the **Anaconda Navigator** program that you just installed. (Windows users: on start menu, search Anaconda Navigator)\n",
    "\n",
    "* In the window that appears, find the **Spyder** icon and click **\"launch\"**\n",
    "![Launching Spyder](launch_spyder.png)\n",
    "\n",
    "* When spyder appears, you will see a window with three parts. On the left, there is space for you to write python **code**. On the top right, some basic language **help** is available. On the bottom right, a python **interpreter** is available for running ptyhon code.\n",
    "![Parts of Spyder](spyder_parts.png)\n",
    "\n",
    "* Try interacting with spyder: in the interpreter, type 1+1 and hit enter. \n",
    "\n",
    "* Now, you are ready to write your first script. In the code window, paste the following. Then save the file as **hello_world.py**, noting the folder you saved this in.\n"
   ]
  },
  {
   "cell_type": "code",
   "execution_count": null,
   "metadata": {
    "collapsed": true
   },
   "outputs": [],
   "source": [
    "print(\"Hello World!\")"
   ]
  },
  {
   "cell_type": "markdown",
   "metadata": {},
   "source": [
    "* Run the code by clicking the green arrow on top of Spyder (or by pressing F5). A menu may pop up: if it does, select \"Execute in current Python or Ipython console\" and hit OK.\n",
    "* Look at the python interpreter. It will say hello world. Congratulations! You just ran your first python program."
   ]
  },
  {
   "cell_type": "markdown",
   "metadata": {},
   "source": [
    "# Method 2: Command line.\n",
    "\n",
    "You can also interact with Spyder on the command line.\n",
    "\n",
    "* In windows, open the start menu, search \"cmd\", and run the \"Command Prompt\" application that appears.\n",
    "\n",
    "* Some command line basics:\n",
    "    + cd   :   change directory, e.g. cd desktop\n",
    "    + dir  :   list contents of a directory\n",
    "    + python : run python\n",
    "\n",
    "* Navigate to the directory you where stored hello_world.py (using the cd command). If you need to switch drives (e.g. to C:) type C: and press enter.\n",
    "\n",
    "* Type the following and then press enter: python hello_world.py\n",
    "\n",
    "* You should see the output, hello_world.py\n",
    "\n",
    "![Hello World on Command Line](hello_world_cmd_prompt.png)\n"
   ]
  },
  {
   "cell_type": "markdown",
   "metadata": {},
   "source": [
    "# Try at Home\n",
    "\n",
    "* Install Anaconda and Spyder on your own computer.\n",
    "* Create hello_world.py and run it, using (1) Spyder and (2) the command line.\n",
    "\n",
    "## Challenge\n",
    "* Practice navigating with the command line:\n",
    "    + navigate to different directories you commonly use.\n",
    "    + run python interactively on the command line: type python and press enter. Now try interacting with python, example 1+1 or \"True==False\"\n",
    "    + find a python program relevant to your research and run it, using spyder or the command line.\n",
    "* Explore spyder.\n",
    "* Install new python packages: for example type pip install color at the command line.\n"
   ]
  }
 ],
 "metadata": {
  "kernelspec": {
   "display_name": "Python 3",
   "language": "python",
   "name": "python3"
  },
  "language_info": {
   "codemirror_mode": {
    "name": "ipython",
    "version": 3
   },
   "file_extension": ".py",
   "mimetype": "text/x-python",
   "name": "python",
   "nbconvert_exporter": "python",
   "pygments_lexer": "ipython3",
   "version": "3.6.1"
  }
 },
 "nbformat": 4,
 "nbformat_minor": 2
}
