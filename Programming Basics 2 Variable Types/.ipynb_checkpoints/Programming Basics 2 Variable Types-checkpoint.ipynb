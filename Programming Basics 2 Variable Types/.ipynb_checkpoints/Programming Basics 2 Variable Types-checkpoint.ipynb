{
 "cells": [
  {
   "cell_type": "markdown",
   "metadata": {},
   "source": [
    "# Programming Basics 2: Variable Types\n",
    "\n",
    "# 1. Introduction to Variables\n",
    "\n",
    "One of the most common things we do in programming is store some value as a **variable**. A variable has an **arbitrary name** (which is typically meaningful) and points to some **value**\n",
    "\n",
    "#### Example: \n",
    "On a memory task, your participant's reaction times are: trial 1, 400 ms; trial 2, 600 ms."
   ]
  },
  {
   "cell_type": "code",
   "execution_count": null,
   "metadata": {},
   "outputs": [],
   "source": [
    "# define some variables.\n",
    "trial1_rt = 400\n",
    "trial2_rt = 600\n",
    "\n",
    "trial1_rt # returns 400\n",
    "trial2_rt # returns 600\n",
    "trial1_rt + trial2_rt # returns 1000"
   ]
  },
  {
   "cell_type": "markdown",
   "metadata": {},
   "source": [
    "#### Practice:\n",
    "On a free recall memory test, participant 1 recalls 6 items correctly and participant 2 recalls 7 items correctly. Save these value as appropriately named variables"
   ]
  },
  {
   "cell_type": "code",
   "execution_count": null,
   "metadata": {},
   "outputs": [],
   "source": [
    "# Complete the code below. When done, press ALT+ENTER to run it.\n",
    "part1_score = \n",
    "part2_score = "
   ]
  },
  {
   "cell_type": "markdown",
   "metadata": {},
   "source": [
    "# 2. Variable Types\n",
    "While the name of a variable is arbitrary, the value assigned to it is not. These values can have different **types**. Python tells the type of a variable by the syntax you use to enter it.\n",
    "\n",
    "* **Int** Integer number, e.g. 4\n",
    "* **Float** Decimal number, e.g. 2.3\n",
    "* **String** Text, e.g. \"coffee\"\n",
    "* **Boolean** The value True or False\n",
    "\n",
    "#### Examples: "
   ]
  },
  {
   "cell_type": "code",
   "execution_count": null,
   "metadata": {},
   "outputs": [],
   "source": [
    "part1_recall = 6 # integer\n",
    "mean_recall = 6.5 # float\n",
    "task_name = \"free recall\" # string\n",
    "part1_tested = True # boolean"
   ]
  },
  {
   "cell_type": "markdown",
   "metadata": {},
   "source": [
    "#### Practice\n",
    "\n",
    "* The sample size for your study is 30. Save this value as an appropriately named integer variable.\n",
    "* The average age of your participants is 19.2 years. Save this as an appropriately named floating point variable.\n",
    "* The RA who ran your participants is named Susan. Save this as an appropriately named string variable.\n",
    "* You have not yet finished testing all participants. Save this value (whether you have finished testing) as an appropriately named boolean variable."
   ]
  },
  {
   "cell_type": "code",
   "execution_count": null,
   "metadata": {},
   "outputs": [],
   "source": [
    "# Complegte the code below, ALT+ENTER when finished to run.\n",
    "sample_size = \n",
    "mean_age = \n",
    "ra_name = \n",
    "finished_testing = "
   ]
  },
  {
   "cell_type": "markdown",
   "metadata": {},
   "source": [
    "# 3. Type Conversion\n",
    "\n",
    "Usually, you give the tyupe of a variable by how you enter it. For example: \n",
    "    \n",
    "    part1_recall = 6 \n",
    "    \n",
    "Suppose, however, that you accidentally entered participant 1's score as a  string, and you want to change it to an integer. Here, you use one of the following functions to change its type:\n",
    "\n",
    "* int()\n",
    "* str()\n",
    "* float()\n",
    "* bool()\n",
    "\n",
    "#### Example: "
   ]
  },
  {
   "cell_type": "code",
   "execution_count": null,
   "metadata": {},
   "outputs": [],
   "source": [
    "part1_recall_str = \"6\"\n",
    "part1_recall_int = int(part1_recall_str) # convert to integer."
   ]
  },
  {
   "cell_type": "markdown",
   "metadata": {},
   "source": [
    "#### Practice:\n",
    "Your RA accidentally entered some code below. Please add new lines below (without changing the original code) to fix the variable types."
   ]
  },
  {
   "cell_type": "code",
   "execution_count": null,
   "metadata": {},
   "outputs": [],
   "source": [
    "part1_tested = \"True\" # please fix below by converting to boolean.\n",
    "part1_recall = 6.0 # please fix below by converting to integer.\n"
   ]
  },
  {
   "cell_type": "markdown",
   "metadata": {},
   "source": [
    "# 4. Variable Operations\n",
    "\n",
    "Each variable has a number of operations that can be performed on it. Here are some common ones:\n",
    "\n",
    "## Arithmetic: + - * /\n",
    "\n",
    "#### Examples: \n",
    "    a = 2\n",
    "    b = 3\n",
    "    c = a * b   # returns 6\n",
    "    \n",
    "#### Practice: \n",
    "On your memory test, participant 1's score was 6, participant 2's score was 7. (A) Save these values to separate variables and then add them together. (B) Divide the sum by two to get the average score. "
   ]
  },
  {
   "cell_type": "code",
   "execution_count": null,
   "metadata": {},
   "outputs": [],
   "source": [
    "# Complete this code.\n",
    "part1_score =\n",
    "part2_score = \n",
    "total_score = \n",
    "average_score = "
   ]
  },
  {
   "cell_type": "markdown",
   "metadata": {},
   "source": [
    "## Comparison: > < ==\n",
    "\n",
    "This will return a boolean, True or False.\n",
    "\n",
    "#### Examples:\n",
    "    a = 2\n",
    "    b = 3\n",
    "    a < b # returns True\n",
    "    a > b # returns False\n",
    "    a == b # returns False\n",
    "    \n",
    "#### Practice:\n",
    "Again, participant 1 scored 6 and participant 7 scored 7. Do 3 separate tests for whether participant 1's score is less than, equal to, and greater than participant 2's score"
   ]
  },
  {
   "cell_type": "code",
   "execution_count": null,
   "metadata": {},
   "outputs": [],
   "source": [
    "# Complete this code. \n",
    "part1_score = \n",
    "part2_score = \n",
    "p1_less_than_p2 = \n",
    "p1_equals_p2 = \n",
    "p1_greater_than_p2 = "
   ]
  },
  {
   "cell_type": "markdown",
   "metadata": {},
   "source": [
    "## Common String Operations: len() and ==\n",
    "\n",
    "Here are the two most common string operations:\n",
    "\n",
    "Get the length of a string:\n",
    "    s = \"coffee\"\n",
    "    len(s) # returns 6\n",
    "    \n",
    "Test if two strings are equal.\n",
    "    p1_condition = \"control\"\n",
    "    p2_condition = \"treatment\"\n",
    "    p1_condition == p2_condition # returns False\n",
    "    \n",
    "#### Practice:\n",
    "Participant 2 is in the \"treatment\" condition. \n",
    "* Set a variable with this value.\n",
    "* Get the length of participant 2's condition.\n",
    "* Test if participant 2 is in the control condition."
   ]
  },
  {
   "cell_type": "code",
   "execution_count": null,
   "metadata": {},
   "outputs": [],
   "source": [
    "# Complete this code.\n",
    "p2_condition = \n",
    "p2_condition_length = \n",
    "p2_is_control = "
   ]
  }
 ],
 "metadata": {
  "kernelspec": {
   "display_name": "Python 3",
   "language": "python",
   "name": "python3"
  },
  "language_info": {
   "codemirror_mode": {
    "name": "ipython",
    "version": 3
   },
   "file_extension": ".py",
   "mimetype": "text/x-python",
   "name": "python",
   "nbconvert_exporter": "python",
   "pygments_lexer": "ipython3",
   "version": "3.6.6"
  }
 },
 "nbformat": 4,
 "nbformat_minor": 2
}
